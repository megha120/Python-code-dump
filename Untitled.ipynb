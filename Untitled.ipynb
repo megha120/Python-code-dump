{
 "cells": [
  {
   "cell_type": "code",
   "execution_count": 39,
   "metadata": {},
   "outputs": [
    {
     "name": "stdout",
     "output_type": "stream",
     "text": [
      "1234\n",
      "134084285090\n",
      "134084300089\n",
      "134084303484\n",
      "134084304927\n",
      "134084319944\n",
      "46316400970\n",
      "[['FileName', 'Start', 'End', 'Count'], ['134084285090', '0:01:09', '0:01:35', 7], ['', '0:01:45', '0:02:37', ''], ['', '0:05:17', '0:05:37', ''], ['', '0:07:57', '0:08:31', ''], ['', '0:09:19', '0:11:53', ''], ['', '0:11:59', '0:12:44', ''], ['', '0:13:56', '0:17:52', ''], ['134084300089', '0:04:52', '0:05:15', 11], ['', '0:06:56', '0:07:17', ''], ['', '0:07:22', '0:07:51', ''], ['', '0:08:57', '0:09:16', ''], ['', '0:09:35', '0:09:52', ''], ['', '0:10:15', '0:10:38', ''], ['', '0:13:15', '0:13:47', ''], ['', '0:13:55', '0:14:18', ''], ['', '0:15:26', '0:16:00', ''], ['', '0:16:16', '0:16:43', ''], ['', '0:18:36', '0:19:01', ''], ['134084303484', '0:03:05', '0:03:26', 4], ['', '0:03:36', '0:04:02', ''], ['', '0:04:55', '0:05:25', ''], ['', '0:09:26', '0:09:43', ''], ['134084304927', '0:01:20', '0:01:35', 6], ['', '0:02:01', '0:02:18', ''], ['', '0:04:50', '0:05:07', ''], ['', '0:06:15', '0:06:53', ''], ['', '0:07:12', '0:07:28', ''], ['', '0:15:02', '0:15:24', ''], ['134084319944', '0:03:13', '0:03:29', 4], ['', '0:12:02', '0:12:27', ''], ['', '0:13:06', '0:14:56', ''], ['', '0:15:20', '0:15:48', ''], ['46316400970', '0:00:19', '0:00:42', 1]]\n"
     ]
    }
   ],
   "source": [
    "from os import listdir\n",
    "import csv\n",
    "path = \"C:/Users/Megha/Python code/Sample\"\n",
    "row_list = [[\"FileName\", \"Start\", \"End\",\"Count\"]]\n",
    "for f in listdir(path):\n",
    "    file_path=path+\"/\"+f\n",
    "    fileName = f.replace('_pause.txt','')\n",
    "    print(fileName)\n",
    "    with open (file_path, \"r\") as myfile:\n",
    "        data = myfile.read().replace('\\n', '')\n",
    "        if len(data)>2:\n",
    "            ls = data.split('), ')\n",
    "            count = len(ls)\n",
    "            for j,i in enumerate(ls):\n",
    "                ls2 = i.split(',')\n",
    "                start = ls2[0].replace('[(','').replace('(','').replace(\"'\", '')\n",
    "                end = ls2[1].replace(' ','').replace(')]','').replace(\"'\", '')\n",
    "                if j==0:\n",
    "                    row_list.append([fileName,start,end,count])\n",
    "                else:\n",
    "                    row_list.append(['',start,end,''])\n",
    "        \n",
    "print(row_list)\n",
    "with open('output.csv', 'w', newline='') as file:\n",
    "    writer = csv.writer(file)\n",
    "    writer.writerows(row_list)\n"
   ]
  },
  {
   "cell_type": "code",
   "execution_count": null,
   "metadata": {},
   "outputs": [],
   "source": []
  }
 ],
 "metadata": {
  "kernelspec": {
   "display_name": "Python 3",
   "language": "python",
   "name": "python3"
  },
  "language_info": {
   "codemirror_mode": {
    "name": "ipython",
    "version": 3
   },
   "file_extension": ".py",
   "mimetype": "text/x-python",
   "name": "python",
   "nbconvert_exporter": "python",
   "pygments_lexer": "ipython3",
   "version": "3.8.5"
  }
 },
 "nbformat": 4,
 "nbformat_minor": 4
}
